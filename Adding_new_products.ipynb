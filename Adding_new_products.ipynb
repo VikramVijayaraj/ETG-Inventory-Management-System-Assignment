{
  "nbformat": 4,
  "nbformat_minor": 0,
  "metadata": {
    "colab": {
      "name": "Adding_new_products",
      "provenance": [],
      "collapsed_sections": []
    },
    "kernelspec": {
      "name": "python3",
      "display_name": "Python 3"
    },
    "language_info": {
      "name": "python"
    }
  },
  "cells": [
    {
      "cell_type": "code",
      "metadata": {
        "id": "JLPtG_3jNggV"
      },
      "source": [
        "import json\n",
        "from datetime import datetime"
      ],
      "execution_count": null,
      "outputs": []
    },
    {
      "cell_type": "markdown",
      "metadata": {
        "id": "sycXpIdzT1m6"
      },
      "source": [
        "# Read the json file"
      ]
    },
    {
      "cell_type": "code",
      "metadata": {
        "id": "iAf5nsgVSGlt"
      },
      "source": [
        "with open('record.json', 'r') as file:\n",
        "  r = file.read()"
      ],
      "execution_count": null,
      "outputs": []
    },
    {
      "cell_type": "code",
      "metadata": {
        "id": "F_9_6IwKSGCI"
      },
      "source": [
        "record = json.loads(r)\n",
        "record"
      ],
      "execution_count": null,
      "outputs": []
    },
    {
      "cell_type": "markdown",
      "metadata": {
        "id": "8WstdZwAxUBt"
      },
      "source": [
        "# Add New Item into Inventory"
      ]
    },
    {
      "cell_type": "code",
      "metadata": {
        "id": "GiuKBgb_TPRU"
      },
      "source": [
        "\n",
        "flag = \"Y\"\n",
        "\n",
        "while flag.upper() == \"Y\":\n",
        "\n",
        "  new_prod_id = input(\"Enter Product ID: \")\n",
        "  new_name = input(\"Enter Product name: \")\n",
        "  new_price = int(input(\"Enter Price: \"))\n",
        "  new_qty = int(input(\"Enter Quantity: \"))\n",
        "  new_pkd = input(\"Enter PKD/MFG: \")\n",
        "  new_exp = input(\"Enter Expiry/Warranty: \")\n",
        "\n",
        "  if new_prod_id in record:\n",
        "    record[new_prod_id] = {'name': new_name, 'price': new_price, 'qty': record[new_prod_id]['qty'] + new_qty, \"pkd/mfg\": new_pkd, \"expiry/warranty\": new_exp}\n",
        "    print(\"\\nProduct Updated!\")\n",
        "\n",
        "  else:\n",
        "    record[new_prod_id] = {'name': new_name, 'price': new_price, 'qty': new_qty, \"pkd/mfg\": new_pkd, \"expiry/warranty\": new_exp}\n",
        "    print(\"\\nNew product added!\")\n",
        "  \n",
        "  flag = input(\"\\nDo you want to add more products?(Y/N) \")\n"
      ],
      "execution_count": null,
      "outputs": []
    },
    {
      "cell_type": "code",
      "metadata": {
        "id": "XPVLCkABZQgp"
      },
      "source": [
        "record"
      ],
      "execution_count": null,
      "outputs": []
    },
    {
      "cell_type": "markdown",
      "metadata": {
        "id": "UXTb72Om0cnF"
      },
      "source": [
        "# Overwrite the record file"
      ]
    },
    {
      "cell_type": "code",
      "metadata": {
        "id": "Dg4FaOHbIEnb"
      },
      "source": [
        "js = json.dumps(record)\n",
        "with open('record.json', 'w') as file:\n",
        "  file.write(js)\n",
        "\n",
        "js"
      ],
      "execution_count": null,
      "outputs": []
    }
  ]
}