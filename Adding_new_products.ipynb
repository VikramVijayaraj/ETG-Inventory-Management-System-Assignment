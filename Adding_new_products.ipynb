{
  "nbformat": 4,
  "nbformat_minor": 0,
  "metadata": {
    "colab": {
      "name": "Adding_new_products",
      "provenance": [],
      "collapsed_sections": []
    },
    "kernelspec": {
      "name": "python3",
      "display_name": "Python 3"
    },
    "language_info": {
      "name": "python"
    }
  },
  "cells": [
    {
      "cell_type": "code",
      "metadata": {
        "id": "JLPtG_3jNggV"
      },
      "source": [
        "import json\n",
        "from datetime import datetime"
      ],
      "execution_count": 1,
      "outputs": []
    },
    {
      "cell_type": "markdown",
      "metadata": {
        "id": "sycXpIdzT1m6"
      },
      "source": [
        "# Read the json file"
      ]
    },
    {
      "cell_type": "code",
      "metadata": {
        "id": "iAf5nsgVSGlt"
      },
      "source": [
        "with open('record.json', 'r') as file:\n",
        "  r = file.read()"
      ],
      "execution_count": 2,
      "outputs": []
    },
    {
      "cell_type": "code",
      "metadata": {
        "colab": {
          "base_uri": "https://localhost:8080/"
        },
        "id": "F_9_6IwKSGCI",
        "outputId": "e59ea937-1d21-451d-d368-07e58d727f2c"
      },
      "source": [
        "record = json.loads(r)\n",
        "record"
      ],
      "execution_count": 3,
      "outputs": [
        {
          "output_type": "execute_result",
          "data": {
            "text/plain": [
              "{'1001': {'expiry/warranty': '3 months',\n",
              "  'name': 'Choco Cake',\n",
              "  'pkd/mfg': '30/05/2020',\n",
              "  'price': 100,\n",
              "  'qty': 33},\n",
              " '1002': {'expiry/warranty': '3 months',\n",
              "  'name': 'Milk Cake',\n",
              "  'pkd/mfg': '03/02/2020',\n",
              "  'price': 800,\n",
              "  'qty': 98},\n",
              " '1003': {'expiry/warranty': '6 months',\n",
              "  'name': 'Drink',\n",
              "  'pkd/mfg': '24/10/2020',\n",
              "  'price': 85,\n",
              "  'qty': 100},\n",
              " '1004': {'expiry/warranty': '6 months',\n",
              "  'name': 'Candy',\n",
              "  'pkd/mfg': '10/02/2020',\n",
              "  'price': 5,\n",
              "  'qty': 999},\n",
              " '1005': {'expiry/warranty': '12 months',\n",
              "  'name': 'Pen',\n",
              "  'pkd/mfg': '09/06/2019',\n",
              "  'price': 20,\n",
              "  'qty': 100},\n",
              " '1006': {'expiry/warranty': '24 months',\n",
              "  'name': 'Phone',\n",
              "  'pkd/mfg': '31/05/2021',\n",
              "  'price': 50000,\n",
              "  'qty': 10},\n",
              " '1007': {'expiry/warranty': '18 months',\n",
              "  'name': 'Mic',\n",
              "  'pkd/mfg': '13/01/2018',\n",
              "  'price': 1500,\n",
              "  'qty': 0},\n",
              " '1008': {'expiry/warranty': '6 months',\n",
              "  'name': 'Case',\n",
              "  'pkd/mfg': '27/02/2020',\n",
              "  'price': 599,\n",
              "  'qty': 5},\n",
              " '1009': {'expiry/warranty': '12 months',\n",
              "  'name': 'Keyboard',\n",
              "  'pkd/mfg': '17/07/2021',\n",
              "  'price': 1999,\n",
              "  'qty': 10},\n",
              " '1010': {'expiry/warranty': '14 months',\n",
              "  'name': 'Dell Monitor',\n",
              "  'pkd/mfg': '10/10/2020',\n",
              "  'price': 15000,\n",
              "  'qty': 4},\n",
              " '1011': {'expiry/warranty': '14 months',\n",
              "  'name': 'Acer Monitor',\n",
              "  'pkd/mfg': '15/09/2019',\n",
              "  'price': 9500,\n",
              "  'qty': 7},\n",
              " '1012': {'expiry/warranty': '14 months',\n",
              "  'name': 'HP Monitor',\n",
              "  'pkd/mfg': '22/12/2021',\n",
              "  'price': 27000,\n",
              "  'qty': 4},\n",
              " '1013': {'expiry/warranty': '24 months',\n",
              "  'name': 'Laptop',\n",
              "  'pkd/mfg': '21/11/2020',\n",
              "  'price': 66000,\n",
              "  'qty': 14},\n",
              " '1014': {'expiry/warranty': '12 months',\n",
              "  'name': 'Beard Trimmer',\n",
              "  'pkd/mfg': '01/01/2021',\n",
              "  'price': 2500,\n",
              "  'qty': 18},\n",
              " '1015': {'expiry/warranty': '6 months',\n",
              "  'name': 'Sunglass',\n",
              "  'pkd/mfg': '18/06/2020',\n",
              "  'price': 3000,\n",
              "  'qty': 14},\n",
              " '1016': {'expiry/warranty': '6 months',\n",
              "  'name': 'Wireless Mouse',\n",
              "  'pkd/mfg': '11/02/2019',\n",
              "  'price': 2200,\n",
              "  'qty': 10},\n",
              " '1017': {'expiry/warranty': '6 months',\n",
              "  'name': 'Wired Mouse',\n",
              "  'pkd/mfg': '28/02/2020',\n",
              "  'price': 1350,\n",
              "  'qty': 23},\n",
              " '1018': {'expiry/warranty': '3 months',\n",
              "  'name': 'Dairy Milk',\n",
              "  'pkd/mfg': '02/06/2021',\n",
              "  'price': 100,\n",
              "  'qty': 49},\n",
              " '1019': {'expiry/warranty': '1 months',\n",
              "  'name': 'Ice Cream',\n",
              "  'pkd/mfg': '04/09/2021',\n",
              "  'price': 25,\n",
              "  'qty': 60},\n",
              " '1020': {'expiry/warranty': '6 months',\n",
              "  'name': 'Wired Headphones',\n",
              "  'pkd/mfg': '19/12/2020',\n",
              "  'price': 3000,\n",
              "  'qty': 15},\n",
              " '1021': {'expiry/warranty': 'NA',\n",
              "  'name': 'Blue Pen',\n",
              "  'pkd/mfg': '13/04/2020',\n",
              "  'price': 10,\n",
              "  'qty': 100},\n",
              " '1022': {'expiry/warranty': 'NA',\n",
              "  'name': 'Black Pen',\n",
              "  'pkd/mfg': '13/04/2020',\n",
              "  'price': 10,\n",
              "  'qty': 127},\n",
              " '1023': {'expiry/warranty': '1 day',\n",
              "  'name': 'Pizza',\n",
              "  'pkd/mfg': '04/09/2021',\n",
              "  'price': 600,\n",
              "  'qty': 6},\n",
              " '1024': {'expiry/warranty': '2 months',\n",
              "  'name': 'USB charger',\n",
              "  'pkd/mfg': '30/06/2020',\n",
              "  'price': 350,\n",
              "  'qty': 18},\n",
              " '1025': {'expiry/warranty': '1 months',\n",
              "  'name': 'Water Bottle',\n",
              "  'pkd/mfg': '20/11/2020',\n",
              "  'price': 80,\n",
              "  'qty': 99},\n",
              " '1026': {'expiry/warranty': '3 months',\n",
              "  'name': 'Sports Shoes',\n",
              "  'pkd/mfg': '23/07/2021',\n",
              "  'price': 4000,\n",
              "  'qty': 35},\n",
              " '1027': {'expiry/warranty': '6 months',\n",
              "  'name': 'Formal Shoes',\n",
              "  'pkd/mfg': '16/08/2020',\n",
              "  'price': 2300,\n",
              "  'qty': 20},\n",
              " '1028': {'expiry/warranty': '2 months',\n",
              "  'name': 'Slippers',\n",
              "  'pkd/mfg': '14/12/2019',\n",
              "  'price': 700,\n",
              "  'qty': 45},\n",
              " '1029': {'expiry/warranty': '24 months',\n",
              "  'name': 'DSLR Camera',\n",
              "  'pkd/mfg': '04/04/2019',\n",
              "  'price': 150000,\n",
              "  'qty': 2},\n",
              " '1030': {'expiry/warranty': '24 months',\n",
              "  'name': 'Play Station 5',\n",
              "  'pkd/mfg': '29/07/2021',\n",
              "  'price': 75000,\n",
              "  'qty': 3}}"
            ]
          },
          "metadata": {},
          "execution_count": 3
        }
      ]
    },
    {
      "cell_type": "markdown",
      "metadata": {
        "id": "8WstdZwAxUBt"
      },
      "source": [
        "# Add New Item into Inventory"
      ]
    },
    {
      "cell_type": "code",
      "metadata": {
        "id": "GiuKBgb_TPRU",
        "colab": {
          "base_uri": "https://localhost:8080/"
        },
        "outputId": "d9f18295-4abd-4048-efd8-1e8089c66c06"
      },
      "source": [
        "\n",
        "flag = \"Y\"\n",
        "\n",
        "while flag.upper() == \"Y\":\n",
        "\n",
        "  new_prod_id = input(\"Enter Product ID: \")\n",
        "  new_name = input(\"Enter Product name: \")\n",
        "  new_price = int(input(\"Enter Price: \"))\n",
        "  new_qty = int(input(\"Enter Quantity: \"))\n",
        "  new_pkd = input(\"Enter PKD/MFG: \")\n",
        "  new_exp = input(\"Enter Expiry/Warranty: \")\n",
        "\n",
        "  if new_prod_id in record:\n",
        "    record[new_prod_id] = {'name': new_name, 'price': new_price, 'qty': record[new_prod_id]['qty'] + new_qty, \"pkd/mfg\": new_pkd, \"expiry/warranty\": new_exp}\n",
        "    print(\"\\nProduct Updated!\")\n",
        "\n",
        "  else:\n",
        "    record[new_prod_id] = {'name': new_name, 'price': new_price, 'qty': new_qty, \"pkd/mfg\": new_pkd, \"expiry/warranty\": new_exp}\n",
        "    print(\"\\nNew product added!\")\n",
        "  \n",
        "  flag = input(\"\\nDo you want to add more products?(Y/N) \")\n"
      ],
      "execution_count": 6,
      "outputs": [
        {
          "name": "stdout",
          "output_type": "stream",
          "text": [
            "Enter Product ID: 1023\n",
            "Enter Product name: Pizza\n",
            "Enter Price: 600\n",
            "Enter Quantity: 22\n",
            "Enter PKD/MFG: 04/09/2021\n",
            "Enter Expiry/Warranty: 1 day\n",
            "\n",
            "Product Updated!\n",
            "\n",
            "Do you want to add more products?(Y/N) y\n",
            "Enter Product ID: 1031\n",
            "Enter Product name: Ipad\n",
            "Enter Price: 43000\n",
            "Enter Quantity: 18\n",
            "Enter PKD/MFG: 20/11/2020\n",
            "Enter Expiry/Warranty: 48\n",
            "\n",
            "New product added!\n",
            "\n",
            "Do you want to add more products?(Y/N) n\n"
          ]
        }
      ]
    },
    {
      "cell_type": "code",
      "metadata": {
        "colab": {
          "base_uri": "https://localhost:8080/"
        },
        "id": "XPVLCkABZQgp",
        "outputId": "61742522-9947-4352-b53e-edf9ee51d04f"
      },
      "source": [
        "record"
      ],
      "execution_count": 10,
      "outputs": [
        {
          "output_type": "execute_result",
          "data": {
            "text/plain": [
              "{'1001': {'expiry/warranty': '3 months',\n",
              "  'name': 'Choco Cake',\n",
              "  'pkd/mfg': '30/05/2020',\n",
              "  'price': 100,\n",
              "  'qty': 33},\n",
              " '1002': {'expiry/warranty': '3 months',\n",
              "  'name': 'Milk Cake',\n",
              "  'pkd/mfg': '03/02/2020',\n",
              "  'price': 800,\n",
              "  'qty': 98},\n",
              " '1003': {'expiry/warranty': '6 months',\n",
              "  'name': 'Drink',\n",
              "  'pkd/mfg': '24/10/2020',\n",
              "  'price': 85,\n",
              "  'qty': 100},\n",
              " '1004': {'expiry/warranty': '6 months',\n",
              "  'name': 'Candy',\n",
              "  'pkd/mfg': '10/02/2020',\n",
              "  'price': 5,\n",
              "  'qty': 999},\n",
              " '1005': {'expiry/warranty': '12 months',\n",
              "  'name': 'Pen',\n",
              "  'pkd/mfg': '09/06/2019',\n",
              "  'price': 20,\n",
              "  'qty': 100},\n",
              " '1006': {'expiry/warranty': '24 months',\n",
              "  'name': 'Phone',\n",
              "  'pkd/mfg': '31/05/2021',\n",
              "  'price': 50000,\n",
              "  'qty': 10},\n",
              " '1007': {'expiry/warranty': '18 months',\n",
              "  'name': 'Mic',\n",
              "  'pkd/mfg': '13/01/2018',\n",
              "  'price': 1500,\n",
              "  'qty': 0},\n",
              " '1008': {'expiry/warranty': '6 months',\n",
              "  'name': 'Case',\n",
              "  'pkd/mfg': '27/02/2020',\n",
              "  'price': 599,\n",
              "  'qty': 5},\n",
              " '1009': {'expiry/warranty': '12 months',\n",
              "  'name': 'Keyboard',\n",
              "  'pkd/mfg': '17/07/2021',\n",
              "  'price': 1999,\n",
              "  'qty': 10},\n",
              " '1010': {'expiry/warranty': '14 months',\n",
              "  'name': 'Dell Monitor',\n",
              "  'pkd/mfg': '10/10/2020',\n",
              "  'price': 15000,\n",
              "  'qty': 4},\n",
              " '1011': {'expiry/warranty': '14 months',\n",
              "  'name': 'Acer Monitor',\n",
              "  'pkd/mfg': '15/09/2019',\n",
              "  'price': 9500,\n",
              "  'qty': 7},\n",
              " '1012': {'expiry/warranty': '14 months',\n",
              "  'name': 'HP Monitor',\n",
              "  'pkd/mfg': '22/12/2021',\n",
              "  'price': 27000,\n",
              "  'qty': 4},\n",
              " '1013': {'expiry/warranty': '24 months',\n",
              "  'name': 'Laptop',\n",
              "  'pkd/mfg': '21/11/2020',\n",
              "  'price': 66000,\n",
              "  'qty': 14},\n",
              " '1014': {'expiry/warranty': '12 months',\n",
              "  'name': 'Beard Trimmer',\n",
              "  'pkd/mfg': '01/01/2021',\n",
              "  'price': 2500,\n",
              "  'qty': 18},\n",
              " '1015': {'expiry/warranty': '6 months',\n",
              "  'name': 'Sunglass',\n",
              "  'pkd/mfg': '18/06/2020',\n",
              "  'price': 3000,\n",
              "  'qty': 14},\n",
              " '1016': {'expiry/warranty': '6 months',\n",
              "  'name': 'Wireless Mouse',\n",
              "  'pkd/mfg': '11/02/2019',\n",
              "  'price': 2200,\n",
              "  'qty': 10},\n",
              " '1017': {'expiry/warranty': '6 months',\n",
              "  'name': 'Wired Mouse',\n",
              "  'pkd/mfg': '28/02/2020',\n",
              "  'price': 1350,\n",
              "  'qty': 23},\n",
              " '1018': {'expiry/warranty': '3 months',\n",
              "  'name': 'Dairy Milk',\n",
              "  'pkd/mfg': '02/06/2021',\n",
              "  'price': 100,\n",
              "  'qty': 49},\n",
              " '1019': {'expiry/warranty': '1 months',\n",
              "  'name': 'Ice Cream',\n",
              "  'pkd/mfg': '04/09/2021',\n",
              "  'price': 25,\n",
              "  'qty': 60},\n",
              " '1020': {'expiry/warranty': '6 months',\n",
              "  'name': 'Wired Headphones',\n",
              "  'pkd/mfg': '19/12/2020',\n",
              "  'price': 3000,\n",
              "  'qty': 15},\n",
              " '1021': {'expiry/warranty': 'NA',\n",
              "  'name': 'Blue Pen',\n",
              "  'pkd/mfg': '13/04/2020',\n",
              "  'price': 10,\n",
              "  'qty': 100},\n",
              " '1022': {'expiry/warranty': 'NA',\n",
              "  'name': 'Black Pen',\n",
              "  'pkd/mfg': '13/04/2020',\n",
              "  'price': 10,\n",
              "  'qty': 127},\n",
              " '1023': {'expiry/warranty': '1 day',\n",
              "  'name': 'Pizza',\n",
              "  'pkd/mfg': '04/09/2021',\n",
              "  'price': 600,\n",
              "  'qty': 28},\n",
              " '1024': {'expiry/warranty': '2 months',\n",
              "  'name': 'USB charger',\n",
              "  'pkd/mfg': '30/06/2020',\n",
              "  'price': 350,\n",
              "  'qty': 18},\n",
              " '1025': {'expiry/warranty': '1 months',\n",
              "  'name': 'Water Bottle',\n",
              "  'pkd/mfg': '20/11/2020',\n",
              "  'price': 80,\n",
              "  'qty': 99},\n",
              " '1026': {'expiry/warranty': '3 months',\n",
              "  'name': 'Sports Shoes',\n",
              "  'pkd/mfg': '23/07/2021',\n",
              "  'price': 4000,\n",
              "  'qty': 35},\n",
              " '1027': {'expiry/warranty': '6 months',\n",
              "  'name': 'Formal Shoes',\n",
              "  'pkd/mfg': '16/08/2020',\n",
              "  'price': 2300,\n",
              "  'qty': 20},\n",
              " '1028': {'expiry/warranty': '2 months',\n",
              "  'name': 'Slippers',\n",
              "  'pkd/mfg': '14/12/2019',\n",
              "  'price': 700,\n",
              "  'qty': 45},\n",
              " '1029': {'expiry/warranty': '24 months',\n",
              "  'name': 'DSLR Camera',\n",
              "  'pkd/mfg': '04/04/2019',\n",
              "  'price': 150000,\n",
              "  'qty': 2},\n",
              " '1030': {'expiry/warranty': '24 months',\n",
              "  'name': 'Play Station 5',\n",
              "  'pkd/mfg': '29/07/2021',\n",
              "  'price': 75000,\n",
              "  'qty': 3},\n",
              " '1031': {'expiry/warranty': '48',\n",
              "  'name': 'Ipad',\n",
              "  'pkd/mfg': '20/11/2020',\n",
              "  'price': 43000,\n",
              "  'qty': 18}}"
            ]
          },
          "metadata": {},
          "execution_count": 10
        }
      ]
    },
    {
      "cell_type": "markdown",
      "metadata": {
        "id": "UXTb72Om0cnF"
      },
      "source": [
        "# Overwrite the record file"
      ]
    },
    {
      "cell_type": "code",
      "metadata": {
        "id": "Dg4FaOHbIEnb",
        "colab": {
          "base_uri": "https://localhost:8080/",
          "height": 341
        },
        "outputId": "c32c3eab-988d-4165-daeb-afda342ae25d"
      },
      "source": [
        "js = json.dumps(record)\n",
        "with open('record.json', 'w') as file:\n",
        "  file.write(js)\n",
        "\n",
        "js"
      ],
      "execution_count": 8,
      "outputs": [
        {
          "output_type": "execute_result",
          "data": {
            "application/vnd.google.colaboratory.intrinsic+json": {
              "type": "string"
            },
            "text/plain": [
              "'{\"1001\": {\"name\": \"Choco Cake\", \"qty\": 33, \"price\": 100, \"pkd/mfg\": \"30/05/2020\", \"expiry/warranty\": \"3 months\"}, \"1002\": {\"name\": \"Milk Cake\", \"price\": 800, \"qty\": 98, \"pkd/mfg\": \"03/02/2020\", \"expiry/warranty\": \"3 months\"}, \"1003\": {\"name\": \"Drink\", \"price\": 85, \"qty\": 100, \"pkd/mfg\": \"24/10/2020\", \"expiry/warranty\": \"6 months\"}, \"1004\": {\"name\": \"Candy\", \"price\": 5, \"qty\": 999, \"pkd/mfg\": \"10/02/2020\", \"expiry/warranty\": \"6 months\"}, \"1005\": {\"name\": \"Pen\", \"price\": 20, \"qty\": 100, \"pkd/mfg\": \"09/06/2019\", \"expiry/warranty\": \"12 months\"}, \"1006\": {\"name\": \"Phone\", \"price\": 50000, \"qty\": 10, \"pkd/mfg\": \"31/05/2021\", \"expiry/warranty\": \"24 months\"}, \"1007\": {\"name\": \"Mic\", \"price\": 1500, \"qty\": 0, \"pkd/mfg\": \"13/01/2018\", \"expiry/warranty\": \"18 months\"}, \"1008\": {\"name\": \"Case\", \"price\": 599, \"qty\": 5, \"pkd/mfg\": \"27/02/2020\", \"expiry/warranty\": \"6 months\"}, \"1009\": {\"name\": \"Keyboard\", \"price\": 1999, \"qty\": 10, \"pkd/mfg\": \"17/07/2021\", \"expiry/warranty\": \"12 months\"}, \"1010\": {\"name\": \"Dell Monitor\", \"price\": 15000, \"qty\": 4, \"pkd/mfg\": \"10/10/2020\", \"expiry/warranty\": \"14 months\"}, \"1011\": {\"name\": \"Acer Monitor\", \"price\": 9500, \"qty\": 7, \"pkd/mfg\": \"15/09/2019\", \"expiry/warranty\": \"14 months\"}, \"1012\": {\"name\": \"HP Monitor\", \"price\": 27000, \"qty\": 4, \"pkd/mfg\": \"22/12/2021\", \"expiry/warranty\": \"14 months\"}, \"1013\": {\"name\": \"Laptop\", \"price\": 66000, \"qty\": 14, \"pkd/mfg\": \"21/11/2020\", \"expiry/warranty\": \"24 months\"}, \"1014\": {\"name\": \"Beard Trimmer\", \"price\": 2500, \"qty\": 18, \"pkd/mfg\": \"01/01/2021\", \"expiry/warranty\": \"12 months\"}, \"1015\": {\"name\": \"Sunglass\", \"price\": 3000, \"qty\": 14, \"pkd/mfg\": \"18/06/2020\", \"expiry/warranty\": \"6 months\"}, \"1016\": {\"name\": \"Wireless Mouse\", \"price\": 2200, \"qty\": 10, \"pkd/mfg\": \"11/02/2019\", \"expiry/warranty\": \"6 months\"}, \"1017\": {\"name\": \"Wired Mouse\", \"price\": 1350, \"qty\": 23, \"pkd/mfg\": \"28/02/2020\", \"expiry/warranty\": \"6 months\"}, \"1018\": {\"name\": \"Dairy Milk\", \"price\": 100, \"qty\": 49, \"pkd/mfg\": \"02/06/2021\", \"expiry/warranty\": \"3 months\"}, \"1019\": {\"name\": \"Ice Cream\", \"price\": 25, \"qty\": 60, \"pkd/mfg\": \"04/09/2021\", \"expiry/warranty\": \"1 months\"}, \"1020\": {\"name\": \"Wired Headphones\", \"price\": 3000, \"qty\": 15, \"pkd/mfg\": \"19/12/2020\", \"expiry/warranty\": \"6 months\"}, \"1021\": {\"name\": \"Blue Pen\", \"price\": 10, \"qty\": 100, \"pkd/mfg\": \"13/04/2020\", \"expiry/warranty\": \"NA\"}, \"1022\": {\"name\": \"Black Pen\", \"price\": 10, \"qty\": 127, \"pkd/mfg\": \"13/04/2020\", \"expiry/warranty\": \"NA\"}, \"1023\": {\"name\": \"Pizza\", \"price\": 600, \"qty\": 28, \"pkd/mfg\": \"04/09/2021\", \"expiry/warranty\": \"1 day\"}, \"1024\": {\"name\": \"USB charger\", \"price\": 350, \"qty\": 18, \"pkd/mfg\": \"30/06/2020\", \"expiry/warranty\": \"2 months\"}, \"1025\": {\"name\": \"Water Bottle\", \"price\": 80, \"qty\": 99, \"pkd/mfg\": \"20/11/2020\", \"expiry/warranty\": \"1 months\"}, \"1026\": {\"name\": \"Sports Shoes\", \"price\": 4000, \"qty\": 35, \"pkd/mfg\": \"23/07/2021\", \"expiry/warranty\": \"3 months\"}, \"1027\": {\"name\": \"Formal Shoes\", \"price\": 2300, \"qty\": 20, \"pkd/mfg\": \"16/08/2020\", \"expiry/warranty\": \"6 months\"}, \"1028\": {\"name\": \"Slippers\", \"price\": 700, \"qty\": 45, \"pkd/mfg\": \"14/12/2019\", \"expiry/warranty\": \"2 months\"}, \"1029\": {\"name\": \"DSLR Camera\", \"price\": 150000, \"qty\": 2, \"pkd/mfg\": \"04/04/2019\", \"expiry/warranty\": \"24 months\"}, \"1030\": {\"name\": \"Play Station 5\", \"price\": 75000, \"qty\": 3, \"pkd/mfg\": \"29/07/2021\", \"expiry/warranty\": \"24 months\"}, \"1031\": {\"name\": \"Ipad\", \"price\": 43000, \"qty\": 18, \"pkd/mfg\": \"20/11/2020\", \"expiry/warranty\": \"48\"}}'"
            ]
          },
          "metadata": {},
          "execution_count": 8
        }
      ]
    }
  ]
}