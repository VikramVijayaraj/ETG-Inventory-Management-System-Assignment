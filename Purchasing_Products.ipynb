{
  "nbformat": 4,
  "nbformat_minor": 0,
  "metadata": {
    "colab": {
      "name": "Purchasing_Products",
      "provenance": [],
      "collapsed_sections": []
    },
    "kernelspec": {
      "name": "python3",
      "display_name": "Python 3"
    },
    "language_info": {
      "name": "python"
    }
  },
  "cells": [
    {
      "cell_type": "markdown",
      "metadata": {
        "id": "wRdlh7BJzcCt"
      },
      "source": [
        "# Read Inventory"
      ]
    },
    {
      "cell_type": "code",
      "metadata": {
        "id": "y9Jm6_Q_zMK8"
      },
      "source": [
        "import json\n",
        "import sys\n",
        "from datetime import datetime\n",
        "import pandas as pd\n",
        "from tabulate import tabulate"
      ],
      "execution_count": null,
      "outputs": []
    },
    {
      "cell_type": "code",
      "metadata": {
        "id": "kFMPHgk6zfB9"
      },
      "source": [
        "with open('record.json', 'r') as file:\n",
        "  r = file.read()\n",
        "\n",
        "record = json.loads(r)"
      ],
      "execution_count": null,
      "outputs": []
    },
    {
      "cell_type": "code",
      "metadata": {
        "id": "_hf0eyh90IL6"
      },
      "source": [
        "record"
      ],
      "execution_count": null,
      "outputs": []
    },
    {
      "cell_type": "markdown",
      "metadata": {
        "id": "hofkAxjE1cOf"
      },
      "source": [
        "# Purchase"
      ]
    },
    {
      "cell_type": "markdown",
      "metadata": {
        "id": "p4MCd2YDnL39"
      },
      "source": [
        "### Display the products\n"
      ]
    },
    {
      "cell_type": "code",
      "metadata": {
        "id": "dz6aE_He9sH6"
      },
      "source": [
        "def available_products():\n",
        "  print(\"------------------------------   WELCOME!   ----------------------------------\\n\")\n",
        "  print(\"Following products are available in our Store\\n\")\n",
        "  print(\"------------------------------------------------------------------------------\")\n",
        "  prod_df = pd.DataFrame(record).transpose()\n",
        "  prod_headers = ['PRODUCT ID', 'PRODUCT', 'QUANTITY', 'PRICE', 'PKD/MFG', 'EXPIRY/WARRANTY']\n",
        "\n",
        "  return (tabulate(prod_df, headers=prod_headers, tablefmt='fancy_grid'))\n",
        "  "
      ],
      "execution_count": null,
      "outputs": []
    },
    {
      "cell_type": "markdown",
      "metadata": {
        "id": "i8bUpEDcnHb-"
      },
      "source": [
        "### Add to Sales"
      ]
    },
    {
      "cell_type": "code",
      "metadata": {
        "id": "ai99ttERkLG2"
      },
      "source": [
        "invoice_list = []\n",
        "sales = {}\n",
        "def update_sales():\n",
        "  now = datetime.now()\n",
        "  dt_str = now.strftime(\"%d/%m/%Y %H:%M:%S\")\n",
        "  date, time = dt_str.split(\" \")\n",
        "  sales[len(sales) + 1] = {'customer_name': cust_name,'product_id' : product, 'product_name': record[product]['name'], 'qty' : quant, 'amount': record[product]['price'] * quant, 'date': date, 'time': time}\n",
        "  invoice_list.append(list(sales[len(sales)].values()))\n",
        "\n",
        "  # Update the Sales.txt\n",
        "  s_js = json.dumps(sales)\n",
        "\n",
        "  with open('sales.json', 'w') as file:\n",
        "    file.write(s_js)\n",
        "\n",
        "  return sales\n"
      ],
      "execution_count": null,
      "outputs": []
    },
    {
      "cell_type": "markdown",
      "metadata": {
        "id": "YQstAGkInTNO"
      },
      "source": [
        "### Generate Invoice"
      ]
    },
    {
      "cell_type": "code",
      "metadata": {
        "id": "e0mZy2WnLrAq"
      },
      "source": [
        "def generate_invoice(invoice_list):\n",
        "  dt = str(datetime.now().year) + \"-\" + str(datetime.now().month) + \"-\" + str(\n",
        "          datetime.now().day) + \"-\" + str(datetime.now().hour) + \"-\" + str(\n",
        "          datetime.now().minute) + \"-\" + str(datetime.now().second)\n",
        "  unique_invoice = str(dt)  # unique invoice\n",
        "  t = str(datetime.now().year) + \"-\" + str(datetime.now().month) + \"-\" + str(datetime.now().day)  # date\n",
        "  d = str(t)  # date\n",
        "  u = str(datetime.now().hour) + \":\" + str(datetime.now().minute) + \":\" + str(datetime.now().second)  # time\n",
        "  e = str(u)  # time\n",
        "\n",
        "  with open(unique_invoice + \" (\" + cust_name + \").txt\", \"w\") as file:\n",
        "    file.write(\"=============================================================\")\n",
        "    file.write(\"\\nONLINE STORE\\t\\t\\t\\t\\t\\tINVOICE\")\n",
        "    file.write(\"\\n\\nInvoice: \" + unique_invoice + \"\\t\\tDate: \" + d + \"\\t\\tTime: \" + e + \"\")\n",
        "    file.write(\"\\n\\nName of Customer: \" + cust_name.upper() + \"\")\n",
        "    file.write(\"\\n=============================================================\\n\")\n",
        "\n",
        "    header = ['PRODUCT ID', 'PRODUCT', 'QUANTITY', 'UNIT PRICE', 'TOTAL']\n",
        "    table = []\n",
        "    total_amount = 0\n",
        "    for values in invoice_list: \n",
        "      total_amount += int(values[4])\n",
        "      table.append([str(values[1]), str(values[2]), str(values[3]), str(record[values[1]]['price']), str(values[4])])\n",
        "    file.write(tabulate(table, headers=header))\n",
        "\n",
        "    file.write(\"\\n-------------------------------------------------------------\")\n",
        "    file.write(\"\\n\\t\\t\\t\\t\\t\\t\\t\\t Your payable amount is: \" + str(total_amount))\n",
        "    file.write(\"\\n-------------------------------------------------------------\")\n",
        "    file.write(\"\\n\\n\\t\\t\\t\\t\\t\\t\\tThank you \" + cust_name.upper() + \" for your shopping.\\n\\t\\t\\t\\t\\t\\t\\t\\t\\t\\t\\t See you again!\")\n",
        "    file.write(\"\\n=============================================================\")\n",
        "  \n",
        "  return unique_invoice\n",
        "  "
      ],
      "execution_count": null,
      "outputs": []
    },
    {
      "cell_type": "markdown",
      "metadata": {
        "id": "C9lJYSou98sa"
      },
      "source": [
        "### Buying the product"
      ]
    },
    {
      "cell_type": "code",
      "metadata": {
        "id": "WC0yuvLg0JCo"
      },
      "source": [
        "print(available_products())\n",
        "\n",
        "cust_name = input(\"\\nEnter your Name: \")\n",
        "print(f\"\\nHello {cust_name}! Please select product as per your choice.\\n\")\n",
        "\n",
        "flag = \"Y\"\n",
        "\n",
        "while flag.upper() == \"Y\":\n",
        "\n",
        "  product = input(\"Enter the Product ID: \")\n",
        "\n",
        "  if product not in record:\n",
        "    print(\"\\nSorry! Product currently not available.\")\n",
        "    flag = input(cust_name + \", do you want to continue shopping?(Y/N)\")\n",
        "\n",
        "  else:\n",
        "    quant = int(input(\"Enter the Quantity: \"))\n",
        "\n",
        "    if quant > record[product]['qty']:\n",
        "\n",
        "      if record[product]['qty'] == 0:\n",
        "        print(f\"Sorry! {record[product]['qty']} stock left.\")\n",
        "      else:\n",
        "        print(f\"Sorry! Only {record[product]['qty']} stocks left.\")\n",
        "      flag = input(cust_name + \", do you want to continue shopping?(Y/N)\")\n",
        "\n",
        "\n",
        "    else:\n",
        "\n",
        "      print(\"\\n--------------------------------------------\")\n",
        "      print(f\"Product: {record[product]['name']}\")\n",
        "      print(f\"Price: {record[product]['price']}\")\n",
        "      print(f\"Billing Amount: {record[product]['price'] * quant}\")\n",
        "      print(\"--------------------------------------------\\n\")\n",
        "\n",
        "      record[product]['qty'] = record[product]['qty'] - quant\n",
        "      update_sales()\n",
        "\n",
        "      flag = input(cust_name + \", do you want to buy more products?(Y/N)\")\n",
        "\n",
        "unique_invoice = generate_invoice(invoice_list)\n",
        "\n",
        "print(\"\\n--------------------------------------------\\n\")\n",
        "print(\"Thank you for shopping from our store!!\\n\")\n",
        "print(\"Please check your invoice for your shopping details,\")\n",
        "print(f\"Which we have created as '{unique_invoice} ({cust_name}).txt' file.\")\n",
        "print(\"\\n--------------------------------------------\\n\")\n",
        "\n",
        "invoice_list.clear()\n"
      ],
      "execution_count": null,
      "outputs": []
    },
    {
      "cell_type": "markdown",
      "metadata": {
        "id": "Rd99eXFg58-7"
      },
      "source": [
        "# Update Inventory after purchase"
      ]
    },
    {
      "cell_type": "code",
      "metadata": {
        "id": "_fgGVZLx4BIE"
      },
      "source": [
        "r_js = json.dumps(record)\n",
        "\n",
        "with open('record.json', 'w') as file:\n",
        "  file.write(r_js)\n",
        "\n",
        "r_js"
      ],
      "execution_count": null,
      "outputs": []
    }
  ]
}