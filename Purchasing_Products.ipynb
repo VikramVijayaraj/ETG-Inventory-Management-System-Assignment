{
  "nbformat": 4,
  "nbformat_minor": 0,
  "metadata": {
    "colab": {
      "name": "Purchasing_Products",
      "provenance": [],
      "collapsed_sections": []
    },
    "kernelspec": {
      "name": "python3",
      "display_name": "Python 3"
    },
    "language_info": {
      "name": "python"
    }
  },
  "cells": [
    {
      "cell_type": "markdown",
      "metadata": {
        "id": "wRdlh7BJzcCt"
      },
      "source": [
        "# Read Inventory"
      ]
    },
    {
      "cell_type": "code",
      "metadata": {
        "id": "y9Jm6_Q_zMK8"
      },
      "source": [
        "import json\n",
        "import sys\n",
        "from datetime import datetime\n",
        "import pandas as pd\n",
        "from tabulate import tabulate"
      ],
      "execution_count": 107,
      "outputs": []
    },
    {
      "cell_type": "code",
      "metadata": {
        "id": "kFMPHgk6zfB9"
      },
      "source": [
        "with open('record.json', 'r') as file:\n",
        "  r = file.read()\n",
        "\n",
        "record = json.loads(r)"
      ],
      "execution_count": 110,
      "outputs": []
    },
    {
      "cell_type": "code",
      "metadata": {
        "colab": {
          "base_uri": "https://localhost:8080/"
        },
        "id": "_hf0eyh90IL6",
        "outputId": "d415b9ae-b0a2-4fd7-8292-30c6b14cd197"
      },
      "source": [
        "record"
      ],
      "execution_count": 111,
      "outputs": [
        {
          "output_type": "execute_result",
          "data": {
            "text/plain": [
              "{'1001': {'expiry/warranty': '3 months',\n",
              "  'name': 'Choco Cake',\n",
              "  'pkd/mfg': '30/05/2020',\n",
              "  'price': 100,\n",
              "  'qty': 33},\n",
              " '1002': {'expiry/warranty': '3 months',\n",
              "  'name': 'Milk Cake',\n",
              "  'pkd/mfg': '03/02/2020',\n",
              "  'price': 800,\n",
              "  'qty': 98},\n",
              " '1003': {'expiry/warranty': '6 months',\n",
              "  'name': 'Drink',\n",
              "  'pkd/mfg': '24/10/2020',\n",
              "  'price': 85,\n",
              "  'qty': 100},\n",
              " '1004': {'expiry/warranty': '6 months',\n",
              "  'name': 'Candy',\n",
              "  'pkd/mfg': '10/02/2020',\n",
              "  'price': 5,\n",
              "  'qty': 999},\n",
              " '1005': {'expiry/warranty': '12 months',\n",
              "  'name': 'Pen',\n",
              "  'pkd/mfg': '09/06/2019',\n",
              "  'price': 20,\n",
              "  'qty': 100},\n",
              " '1006': {'expiry/warranty': '24 months',\n",
              "  'name': 'Phone',\n",
              "  'pkd/mfg': '31/05/2021',\n",
              "  'price': 50000,\n",
              "  'qty': 10},\n",
              " '1007': {'expiry/warranty': '18 months',\n",
              "  'name': 'Mic',\n",
              "  'pkd/mfg': '13/01/2018',\n",
              "  'price': 1500,\n",
              "  'qty': 0},\n",
              " '1008': {'expiry/warranty': '6 months',\n",
              "  'name': 'Case',\n",
              "  'pkd/mfg': '27/02/2020',\n",
              "  'price': 599,\n",
              "  'qty': 5},\n",
              " '1009': {'expiry/warranty': '12 months',\n",
              "  'name': 'Keyboard',\n",
              "  'pkd/mfg': '17/07/2021',\n",
              "  'price': 1999,\n",
              "  'qty': 10},\n",
              " '1010': {'expiry/warranty': '14 months',\n",
              "  'name': 'Dell Monitor',\n",
              "  'pkd/mfg': '10/10/2020',\n",
              "  'price': 15000,\n",
              "  'qty': 4},\n",
              " '1011': {'expiry/warranty': '14 months',\n",
              "  'name': 'Acer Monitor',\n",
              "  'pkd/mfg': '15/09/2019',\n",
              "  'price': 9500,\n",
              "  'qty': 7},\n",
              " '1012': {'expiry/warranty': '14 months',\n",
              "  'name': 'HP Monitor',\n",
              "  'pkd/mfg': '22/12/2021',\n",
              "  'price': 27000,\n",
              "  'qty': 4},\n",
              " '1013': {'expiry/warranty': '24 months',\n",
              "  'name': 'Laptop',\n",
              "  'pkd/mfg': '21/11/2020',\n",
              "  'price': 66000,\n",
              "  'qty': 14},\n",
              " '1014': {'expiry/warranty': '12 months',\n",
              "  'name': 'Beard Trimmer',\n",
              "  'pkd/mfg': '01/01/2021',\n",
              "  'price': 2500,\n",
              "  'qty': 18},\n",
              " '1015': {'expiry/warranty': '6 months',\n",
              "  'name': 'Sunglass',\n",
              "  'pkd/mfg': '18/06/2020',\n",
              "  'price': 3000,\n",
              "  'qty': 14},\n",
              " '1016': {'expiry/warranty': '6 months',\n",
              "  'name': 'Wireless Mouse',\n",
              "  'pkd/mfg': '11/02/2019',\n",
              "  'price': 2200,\n",
              "  'qty': 10},\n",
              " '1017': {'expiry/warranty': '6 months',\n",
              "  'name': 'Wired Mouse',\n",
              "  'pkd/mfg': '28/02/2020',\n",
              "  'price': 1350,\n",
              "  'qty': 23},\n",
              " '1018': {'expiry/warranty': '3 months',\n",
              "  'name': 'Dairy Milk',\n",
              "  'pkd/mfg': '02/06/2021',\n",
              "  'price': 100,\n",
              "  'qty': 49},\n",
              " '1019': {'expiry/warranty': '1 months',\n",
              "  'name': 'Ice Cream',\n",
              "  'pkd/mfg': '04/09/2021',\n",
              "  'price': 25,\n",
              "  'qty': 60},\n",
              " '1020': {'expiry/warranty': '6 months',\n",
              "  'name': 'Wired Headphones',\n",
              "  'pkd/mfg': '19/12/2020',\n",
              "  'price': 3000,\n",
              "  'qty': 15},\n",
              " '1021': {'expiry/warranty': 'NA',\n",
              "  'name': 'Blue Pen',\n",
              "  'pkd/mfg': '13/04/2020',\n",
              "  'price': 10,\n",
              "  'qty': 100},\n",
              " '1022': {'expiry/warranty': 'NA',\n",
              "  'name': 'Black Pen',\n",
              "  'pkd/mfg': '13/04/2020',\n",
              "  'price': 10,\n",
              "  'qty': 127},\n",
              " '1023': {'expiry/warranty': '1 day',\n",
              "  'name': 'Pizza',\n",
              "  'pkd/mfg': '04/09/2021',\n",
              "  'price': 600,\n",
              "  'qty': 28},\n",
              " '1024': {'expiry/warranty': '2 months',\n",
              "  'name': 'USB charger',\n",
              "  'pkd/mfg': '30/06/2020',\n",
              "  'price': 350,\n",
              "  'qty': 18},\n",
              " '1025': {'expiry/warranty': '1 months',\n",
              "  'name': 'Water Bottle',\n",
              "  'pkd/mfg': '20/11/2020',\n",
              "  'price': 80,\n",
              "  'qty': 99},\n",
              " '1026': {'expiry/warranty': '3 months',\n",
              "  'name': 'Sports Shoes',\n",
              "  'pkd/mfg': '23/07/2021',\n",
              "  'price': 4000,\n",
              "  'qty': 35},\n",
              " '1027': {'expiry/warranty': '6 months',\n",
              "  'name': 'Formal Shoes',\n",
              "  'pkd/mfg': '16/08/2020',\n",
              "  'price': 2300,\n",
              "  'qty': 20},\n",
              " '1028': {'expiry/warranty': '2 months',\n",
              "  'name': 'Slippers',\n",
              "  'pkd/mfg': '14/12/2019',\n",
              "  'price': 700,\n",
              "  'qty': 45},\n",
              " '1029': {'expiry/warranty': '24 months',\n",
              "  'name': 'DSLR Camera',\n",
              "  'pkd/mfg': '04/04/2019',\n",
              "  'price': 150000,\n",
              "  'qty': 2},\n",
              " '1030': {'expiry/warranty': '24 months',\n",
              "  'name': 'Play Station 5',\n",
              "  'pkd/mfg': '29/07/2021',\n",
              "  'price': 75000,\n",
              "  'qty': 3},\n",
              " '1031': {'expiry/warranty': '48',\n",
              "  'name': 'Ipad',\n",
              "  'pkd/mfg': '20/11/2020',\n",
              "  'price': 43000,\n",
              "  'qty': 18}}"
            ]
          },
          "metadata": {},
          "execution_count": 111
        }
      ]
    },
    {
      "cell_type": "markdown",
      "metadata": {
        "id": "hofkAxjE1cOf"
      },
      "source": [
        "# Purchase"
      ]
    },
    {
      "cell_type": "markdown",
      "metadata": {
        "id": "p4MCd2YDnL39"
      },
      "source": [
        "### Display the products\n"
      ]
    },
    {
      "cell_type": "code",
      "metadata": {
        "id": "dz6aE_He9sH6"
      },
      "source": [
        "def available_products():\n",
        "  print(\"------------------------------   WELCOME!   ----------------------------------\\n\")\n",
        "  print(\"Following products are available in our Store\\n\")\n",
        "  print(\"------------------------------------------------------------------------------\")\n",
        "  prod_df = pd.DataFrame(record).transpose()\n",
        "  prod_headers = ['PRODUCT ID', 'PRODUCT', 'QUANTITY', 'PRICE', 'PKD/MFG', 'EXPIRY/WARRANTY']\n",
        "\n",
        "  return (tabulate(prod_df, headers=prod_headers, tablefmt='fancy_grid'))\n",
        "  "
      ],
      "execution_count": 112,
      "outputs": []
    },
    {
      "cell_type": "markdown",
      "metadata": {
        "id": "i8bUpEDcnHb-"
      },
      "source": [
        "### Add to Sales"
      ]
    },
    {
      "cell_type": "code",
      "metadata": {
        "id": "ai99ttERkLG2"
      },
      "source": [
        "invoice_list = []\n",
        "sales = {}\n",
        "def update_sales():\n",
        "  now = datetime.now()\n",
        "  dt_str = now.strftime(\"%d/%m/%Y %H:%M:%S\")\n",
        "  date, time = dt_str.split(\" \")\n",
        "  sales[len(sales) + 1] = {'customer_name': cust_name,'product_id' : product, 'product_name': record[product]['name'], 'qty' : quant, 'amount': record[product]['price'] * quant, 'date': date, 'time': time}\n",
        "  invoice_list.append(list(sales[len(sales)].values()))\n",
        "\n",
        "  # Update the Sales.txt\n",
        "  s_js = json.dumps(sales)\n",
        "\n",
        "  with open('sales.json', 'w') as file:\n",
        "    file.write(s_js)\n",
        "\n",
        "  return sales\n"
      ],
      "execution_count": 120,
      "outputs": []
    },
    {
      "cell_type": "markdown",
      "metadata": {
        "id": "YQstAGkInTNO"
      },
      "source": [
        "### Generate Invoice"
      ]
    },
    {
      "cell_type": "code",
      "metadata": {
        "id": "e0mZy2WnLrAq"
      },
      "source": [
        "def generate_invoice(invoice_list):\n",
        "  dt = str(datetime.now().year) + \"-\" + str(datetime.now().month) + \"-\" + str(\n",
        "          datetime.now().day) + \"-\" + str(datetime.now().hour) + \"-\" + str(\n",
        "          datetime.now().minute) + \"-\" + str(datetime.now().second)\n",
        "  unique_invoice = str(dt)  # unique invoice\n",
        "  t = str(datetime.now().year) + \"-\" + str(datetime.now().month) + \"-\" + str(datetime.now().day)  # date\n",
        "  d = str(t)  # date\n",
        "  u = str(datetime.now().hour) + \":\" + str(datetime.now().minute) + \":\" + str(datetime.now().second)  # time\n",
        "  e = str(u)  # time\n",
        "\n",
        "  with open(unique_invoice + \" (\" + cust_name + \").txt\", \"w\") as file:\n",
        "    file.write(\"=============================================================\")\n",
        "    file.write(\"\\nONLINE STORE\\t\\t\\t\\t\\t\\tINVOICE\")\n",
        "    file.write(\"\\n\\nInvoice: \" + unique_invoice + \"\\t\\tDate: \" + d + \"\\t\\tTime: \" + e + \"\")\n",
        "    file.write(\"\\n\\nName of Customer: \" + cust_name.upper() + \"\")\n",
        "    file.write(\"\\n=============================================================\\n\")\n",
        "\n",
        "    header = ['PRODUCT ID', 'PRODUCT', 'QUANTITY', 'UNIT PRICE', 'TOTAL']\n",
        "    table = []\n",
        "    total_amount = 0\n",
        "    for values in invoice_list: \n",
        "      total_amount += int(values[4])\n",
        "      table.append([str(values[1]), str(values[2]), str(values[3]), str(record[values[1]]['price']), str(values[4])])\n",
        "    file.write(tabulate(table, headers=header))\n",
        "\n",
        "    file.write(\"\\n-------------------------------------------------------------\")\n",
        "    file.write(\"\\n\\t\\t\\t\\t\\t\\t\\t\\t Your payable amount is: \" + str(total_amount))\n",
        "    file.write(\"\\n-------------------------------------------------------------\")\n",
        "    file.write(\"\\n\\n\\t\\t\\t\\t\\t\\t\\tThank you \" + cust_name.upper() + \" for your shopping.\\n\\t\\t\\t\\t\\t\\t\\t\\t\\t\\t\\t See you again!\")\n",
        "    file.write(\"\\n=============================================================\")\n",
        "  \n",
        "  return unique_invoice\n",
        "  "
      ],
      "execution_count": 114,
      "outputs": []
    },
    {
      "cell_type": "markdown",
      "metadata": {
        "id": "C9lJYSou98sa"
      },
      "source": [
        "### Buying the product"
      ]
    },
    {
      "cell_type": "code",
      "metadata": {
        "colab": {
          "base_uri": "https://localhost:8080/"
        },
        "id": "WC0yuvLg0JCo",
        "outputId": "1f0355a7-022a-4abc-c781-1cc439b9f1c7"
      },
      "source": [
        "print(available_products())\n",
        "\n",
        "cust_name = input(\"\\nEnter your Name: \")\n",
        "print(f\"\\nHello {cust_name}! Please select product as per your choice.\\n\")\n",
        "\n",
        "flag = \"Y\"\n",
        "\n",
        "while flag.upper() == \"Y\":\n",
        "\n",
        "  product = input(\"Enter the Product ID: \")\n",
        "\n",
        "  if product not in record:\n",
        "    print(\"\\nSorry! Product currently not available.\")\n",
        "    flag = input(cust_name + \", do you want to continue shopping?(Y/N)\")\n",
        "\n",
        "  else:\n",
        "    quant = int(input(\"Enter the Quantity: \"))\n",
        "\n",
        "    if quant > record[product]['qty']:\n",
        "\n",
        "      if record[product]['qty'] == 0:\n",
        "        print(f\"Sorry! {record[product]['qty']} stock left.\")\n",
        "      else:\n",
        "        print(f\"Sorry! Only {record[product]['qty']} stocks left.\")\n",
        "      flag = input(cust_name + \", do you want to continue shopping?(Y/N)\")\n",
        "\n",
        "\n",
        "    else:\n",
        "\n",
        "      print(\"\\n--------------------------------------------\")\n",
        "      print(f\"Product: {record[product]['name']}\")\n",
        "      print(f\"Price: {record[product]['price']}\")\n",
        "      print(f\"Billing Amount: {record[product]['price'] * quant}\")\n",
        "      print(\"--------------------------------------------\\n\")\n",
        "\n",
        "      record[product]['qty'] = record[product]['qty'] - quant\n",
        "      update_sales()\n",
        "\n",
        "      flag = input(cust_name + \", do you want to buy more products?(Y/N)\")\n",
        "\n",
        "unique_invoice = generate_invoice(invoice_list)\n",
        "\n",
        "print(\"\\n--------------------------------------------\\n\")\n",
        "print(\"Thank you for shopping from our store!!\\n\")\n",
        "print(\"Please check your invoice for your shopping details,\")\n",
        "print(f\"Which we have created as '{unique_invoice} ({cust_name}).txt' file.\")\n",
        "print(\"\\n--------------------------------------------\\n\")\n",
        "\n",
        "invoice_list.clear()\n"
      ],
      "execution_count": 125,
      "outputs": [
        {
          "output_type": "stream",
          "name": "stdout",
          "text": [
            "------------------------------   WELCOME!   ----------------------------------\n",
            "\n",
            "Following products are available in our Store\n",
            "\n",
            "------------------------------------------------------------------------------\n",
            "╒══════════════╤══════════════════╤════════════╤═════════╤════════════╤═══════════════════╕\n",
            "│   PRODUCT ID │ PRODUCT          │   QUANTITY │   PRICE │ PKD/MFG    │ EXPIRY/WARRANTY   │\n",
            "╞══════════════╪══════════════════╪════════════╪═════════╪════════════╪═══════════════════╡\n",
            "│         1001 │ Choco Cake       │         33 │     100 │ 30/05/2020 │ 3 months          │\n",
            "├──────────────┼──────────────────┼────────────┼─────────┼────────────┼───────────────────┤\n",
            "│         1002 │ Milk Cake        │         98 │     800 │ 03/02/2020 │ 3 months          │\n",
            "├──────────────┼──────────────────┼────────────┼─────────┼────────────┼───────────────────┤\n",
            "│         1003 │ Drink            │        100 │      85 │ 24/10/2020 │ 6 months          │\n",
            "├──────────────┼──────────────────┼────────────┼─────────┼────────────┼───────────────────┤\n",
            "│         1004 │ Candy            │        999 │       5 │ 10/02/2020 │ 6 months          │\n",
            "├──────────────┼──────────────────┼────────────┼─────────┼────────────┼───────────────────┤\n",
            "│         1005 │ Pen              │        100 │      20 │ 09/06/2019 │ 12 months         │\n",
            "├──────────────┼──────────────────┼────────────┼─────────┼────────────┼───────────────────┤\n",
            "│         1006 │ Phone            │         10 │   50000 │ 31/05/2021 │ 24 months         │\n",
            "├──────────────┼──────────────────┼────────────┼─────────┼────────────┼───────────────────┤\n",
            "│         1007 │ Mic              │          0 │    1500 │ 13/01/2018 │ 18 months         │\n",
            "├──────────────┼──────────────────┼────────────┼─────────┼────────────┼───────────────────┤\n",
            "│         1008 │ Case             │          5 │     599 │ 27/02/2020 │ 6 months          │\n",
            "├──────────────┼──────────────────┼────────────┼─────────┼────────────┼───────────────────┤\n",
            "│         1009 │ Keyboard         │         10 │    1999 │ 17/07/2021 │ 12 months         │\n",
            "├──────────────┼──────────────────┼────────────┼─────────┼────────────┼───────────────────┤\n",
            "│         1010 │ Dell Monitor     │          4 │   15000 │ 10/10/2020 │ 14 months         │\n",
            "├──────────────┼──────────────────┼────────────┼─────────┼────────────┼───────────────────┤\n",
            "│         1011 │ Acer Monitor     │          7 │    9500 │ 15/09/2019 │ 14 months         │\n",
            "├──────────────┼──────────────────┼────────────┼─────────┼────────────┼───────────────────┤\n",
            "│         1012 │ HP Monitor       │          4 │   27000 │ 22/12/2021 │ 14 months         │\n",
            "├──────────────┼──────────────────┼────────────┼─────────┼────────────┼───────────────────┤\n",
            "│         1013 │ Laptop           │         14 │   66000 │ 21/11/2020 │ 24 months         │\n",
            "├──────────────┼──────────────────┼────────────┼─────────┼────────────┼───────────────────┤\n",
            "│         1014 │ Beard Trimmer    │         18 │    2500 │ 01/01/2021 │ 12 months         │\n",
            "├──────────────┼──────────────────┼────────────┼─────────┼────────────┼───────────────────┤\n",
            "│         1015 │ Sunglass         │         14 │    3000 │ 18/06/2020 │ 6 months          │\n",
            "├──────────────┼──────────────────┼────────────┼─────────┼────────────┼───────────────────┤\n",
            "│         1016 │ Wireless Mouse   │         10 │    2200 │ 11/02/2019 │ 6 months          │\n",
            "├──────────────┼──────────────────┼────────────┼─────────┼────────────┼───────────────────┤\n",
            "│         1017 │ Wired Mouse      │         22 │    1350 │ 28/02/2020 │ 6 months          │\n",
            "├──────────────┼──────────────────┼────────────┼─────────┼────────────┼───────────────────┤\n",
            "│         1018 │ Dairy Milk       │         48 │     100 │ 02/06/2021 │ 3 months          │\n",
            "├──────────────┼──────────────────┼────────────┼─────────┼────────────┼───────────────────┤\n",
            "│         1019 │ Ice Cream        │         59 │      25 │ 04/09/2021 │ 1 months          │\n",
            "├──────────────┼──────────────────┼────────────┼─────────┼────────────┼───────────────────┤\n",
            "│         1020 │ Wired Headphones │         15 │    3000 │ 19/12/2020 │ 6 months          │\n",
            "├──────────────┼──────────────────┼────────────┼─────────┼────────────┼───────────────────┤\n",
            "│         1021 │ Blue Pen         │        100 │      10 │ 13/04/2020 │ NA                │\n",
            "├──────────────┼──────────────────┼────────────┼─────────┼────────────┼───────────────────┤\n",
            "│         1022 │ Black Pen        │        127 │      10 │ 13/04/2020 │ NA                │\n",
            "├──────────────┼──────────────────┼────────────┼─────────┼────────────┼───────────────────┤\n",
            "│         1023 │ Pizza            │         28 │     600 │ 04/09/2021 │ 1 day             │\n",
            "├──────────────┼──────────────────┼────────────┼─────────┼────────────┼───────────────────┤\n",
            "│         1024 │ USB charger      │         18 │     350 │ 30/06/2020 │ 2 months          │\n",
            "├──────────────┼──────────────────┼────────────┼─────────┼────────────┼───────────────────┤\n",
            "│         1025 │ Water Bottle     │         99 │      80 │ 20/11/2020 │ 1 months          │\n",
            "├──────────────┼──────────────────┼────────────┼─────────┼────────────┼───────────────────┤\n",
            "│         1026 │ Sports Shoes     │         35 │    4000 │ 23/07/2021 │ 3 months          │\n",
            "├──────────────┼──────────────────┼────────────┼─────────┼────────────┼───────────────────┤\n",
            "│         1027 │ Formal Shoes     │         20 │    2300 │ 16/08/2020 │ 6 months          │\n",
            "├──────────────┼──────────────────┼────────────┼─────────┼────────────┼───────────────────┤\n",
            "│         1028 │ Slippers         │         45 │     700 │ 14/12/2019 │ 2 months          │\n",
            "├──────────────┼──────────────────┼────────────┼─────────┼────────────┼───────────────────┤\n",
            "│         1029 │ DSLR Camera      │          2 │  150000 │ 04/04/2019 │ 24 months         │\n",
            "├──────────────┼──────────────────┼────────────┼─────────┼────────────┼───────────────────┤\n",
            "│         1030 │ Play Station 5   │          3 │   75000 │ 29/07/2021 │ 24 months         │\n",
            "├──────────────┼──────────────────┼────────────┼─────────┼────────────┼───────────────────┤\n",
            "│         1031 │ Ipad             │         18 │   43000 │ 20/11/2020 │ 48                │\n",
            "╘══════════════╧══════════════════╧════════════╧═════════╧════════════╧═══════════════════╛\n",
            "\n",
            "Enter your Name: Vikram\n",
            "\n",
            "Hello Vikram! Please select product as per your choice.\n",
            "\n",
            "Enter the Product ID: 1029\n",
            "Enter the Quantity: 1\n",
            "\n",
            "--------------------------------------------\n",
            "Product: DSLR Camera\n",
            "Price: 150000\n",
            "Billing Amount: 150000\n",
            "--------------------------------------------\n",
            "\n",
            "Vikram, do you want to buy more products?(Y/N)y\n",
            "Enter the Product ID: 1003\n",
            "Enter the Quantity: 2\n",
            "\n",
            "--------------------------------------------\n",
            "Product: Drink\n",
            "Price: 85\n",
            "Billing Amount: 170\n",
            "--------------------------------------------\n",
            "\n",
            "Vikram, do you want to buy more products?(Y/N)n\n",
            "\n",
            "--------------------------------------------\n",
            "\n",
            "Thank you for shopping from our store!!\n",
            "\n",
            "Please check your invoice for your shopping details,\n",
            "Which we have created as '2021-9-6-7-41-23 (Vikram).txt' file.\n",
            "\n",
            "--------------------------------------------\n",
            "\n"
          ]
        }
      ]
    },
    {
      "cell_type": "markdown",
      "metadata": {
        "id": "Rd99eXFg58-7"
      },
      "source": [
        "# Update Inventory after purchase"
      ]
    },
    {
      "cell_type": "code",
      "metadata": {
        "colab": {
          "base_uri": "https://localhost:8080/",
          "height": 324
        },
        "id": "_fgGVZLx4BIE",
        "outputId": "2cf84e9b-ab97-40b1-d0c7-e01a3fa3f112"
      },
      "source": [
        "r_js = json.dumps(record)\n",
        "\n",
        "with open('record.json', 'w') as file:\n",
        "  file.write(r_js)\n",
        "\n",
        "r_js"
      ],
      "execution_count": 127,
      "outputs": [
        {
          "output_type": "execute_result",
          "data": {
            "application/vnd.google.colaboratory.intrinsic+json": {
              "type": "string"
            },
            "text/plain": [
              "'{\"1001\": {\"name\": \"Choco Cake\", \"qty\": 33, \"price\": 100, \"pkd/mfg\": \"30/05/2020\", \"expiry/warranty\": \"3 months\"}, \"1002\": {\"name\": \"Milk Cake\", \"price\": 800, \"qty\": 98, \"pkd/mfg\": \"03/02/2020\", \"expiry/warranty\": \"3 months\"}, \"1003\": {\"name\": \"Drink\", \"price\": 85, \"qty\": 98, \"pkd/mfg\": \"24/10/2020\", \"expiry/warranty\": \"6 months\"}, \"1004\": {\"name\": \"Candy\", \"price\": 5, \"qty\": 999, \"pkd/mfg\": \"10/02/2020\", \"expiry/warranty\": \"6 months\"}, \"1005\": {\"name\": \"Pen\", \"price\": 20, \"qty\": 100, \"pkd/mfg\": \"09/06/2019\", \"expiry/warranty\": \"12 months\"}, \"1006\": {\"name\": \"Phone\", \"price\": 50000, \"qty\": 10, \"pkd/mfg\": \"31/05/2021\", \"expiry/warranty\": \"24 months\"}, \"1007\": {\"name\": \"Mic\", \"price\": 1500, \"qty\": 0, \"pkd/mfg\": \"13/01/2018\", \"expiry/warranty\": \"18 months\"}, \"1008\": {\"name\": \"Case\", \"price\": 599, \"qty\": 5, \"pkd/mfg\": \"27/02/2020\", \"expiry/warranty\": \"6 months\"}, \"1009\": {\"name\": \"Keyboard\", \"price\": 1999, \"qty\": 10, \"pkd/mfg\": \"17/07/2021\", \"expiry/warranty\": \"12 months\"}, \"1010\": {\"name\": \"Dell Monitor\", \"price\": 15000, \"qty\": 4, \"pkd/mfg\": \"10/10/2020\", \"expiry/warranty\": \"14 months\"}, \"1011\": {\"name\": \"Acer Monitor\", \"price\": 9500, \"qty\": 7, \"pkd/mfg\": \"15/09/2019\", \"expiry/warranty\": \"14 months\"}, \"1012\": {\"name\": \"HP Monitor\", \"price\": 27000, \"qty\": 4, \"pkd/mfg\": \"22/12/2021\", \"expiry/warranty\": \"14 months\"}, \"1013\": {\"name\": \"Laptop\", \"price\": 66000, \"qty\": 14, \"pkd/mfg\": \"21/11/2020\", \"expiry/warranty\": \"24 months\"}, \"1014\": {\"name\": \"Beard Trimmer\", \"price\": 2500, \"qty\": 18, \"pkd/mfg\": \"01/01/2021\", \"expiry/warranty\": \"12 months\"}, \"1015\": {\"name\": \"Sunglass\", \"price\": 3000, \"qty\": 14, \"pkd/mfg\": \"18/06/2020\", \"expiry/warranty\": \"6 months\"}, \"1016\": {\"name\": \"Wireless Mouse\", \"price\": 2200, \"qty\": 10, \"pkd/mfg\": \"11/02/2019\", \"expiry/warranty\": \"6 months\"}, \"1017\": {\"name\": \"Wired Mouse\", \"price\": 1350, \"qty\": 22, \"pkd/mfg\": \"28/02/2020\", \"expiry/warranty\": \"6 months\"}, \"1018\": {\"name\": \"Dairy Milk\", \"price\": 100, \"qty\": 48, \"pkd/mfg\": \"02/06/2021\", \"expiry/warranty\": \"3 months\"}, \"1019\": {\"name\": \"Ice Cream\", \"price\": 25, \"qty\": 59, \"pkd/mfg\": \"04/09/2021\", \"expiry/warranty\": \"1 months\"}, \"1020\": {\"name\": \"Wired Headphones\", \"price\": 3000, \"qty\": 15, \"pkd/mfg\": \"19/12/2020\", \"expiry/warranty\": \"6 months\"}, \"1021\": {\"name\": \"Blue Pen\", \"price\": 10, \"qty\": 100, \"pkd/mfg\": \"13/04/2020\", \"expiry/warranty\": \"NA\"}, \"1022\": {\"name\": \"Black Pen\", \"price\": 10, \"qty\": 127, \"pkd/mfg\": \"13/04/2020\", \"expiry/warranty\": \"NA\"}, \"1023\": {\"name\": \"Pizza\", \"price\": 600, \"qty\": 28, \"pkd/mfg\": \"04/09/2021\", \"expiry/warranty\": \"1 day\"}, \"1024\": {\"name\": \"USB charger\", \"price\": 350, \"qty\": 18, \"pkd/mfg\": \"30/06/2020\", \"expiry/warranty\": \"2 months\"}, \"1025\": {\"name\": \"Water Bottle\", \"price\": 80, \"qty\": 99, \"pkd/mfg\": \"20/11/2020\", \"expiry/warranty\": \"1 months\"}, \"1026\": {\"name\": \"Sports Shoes\", \"price\": 4000, \"qty\": 35, \"pkd/mfg\": \"23/07/2021\", \"expiry/warranty\": \"3 months\"}, \"1027\": {\"name\": \"Formal Shoes\", \"price\": 2300, \"qty\": 20, \"pkd/mfg\": \"16/08/2020\", \"expiry/warranty\": \"6 months\"}, \"1028\": {\"name\": \"Slippers\", \"price\": 700, \"qty\": 45, \"pkd/mfg\": \"14/12/2019\", \"expiry/warranty\": \"2 months\"}, \"1029\": {\"name\": \"DSLR Camera\", \"price\": 150000, \"qty\": 1, \"pkd/mfg\": \"04/04/2019\", \"expiry/warranty\": \"24 months\"}, \"1030\": {\"name\": \"Play Station 5\", \"price\": 75000, \"qty\": 3, \"pkd/mfg\": \"29/07/2021\", \"expiry/warranty\": \"24 months\"}, \"1031\": {\"name\": \"Ipad\", \"price\": 43000, \"qty\": 18, \"pkd/mfg\": \"20/11/2020\", \"expiry/warranty\": \"48\"}}'"
            ]
          },
          "metadata": {},
          "execution_count": 127
        }
      ]
    },
    {
      "cell_type": "code",
      "metadata": {
        "id": "wBYFpWwKzI1U"
      },
      "source": [
        ""
      ],
      "execution_count": null,
      "outputs": []
    }
  ]
}